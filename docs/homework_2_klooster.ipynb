{
 "cells": [
  {
   "cell_type": "code",
   "execution_count": 2,
   "id": "900a4e47-a79d-4c37-8631-7ec34d36ddf7",
   "metadata": {},
   "outputs": [],
   "source": [
    "import math\n",
    "import numpy as np\n",
    "import pandas as pd\n",
    "from IPython.display import Image\n",
    "from whatif import Model\n",
    "from whatif import get_sim_results_df"
   ]
  },
  {
   "cell_type": "markdown",
   "id": "01e3b522-3ac4-4fac-81e9-744f7edb0a66",
   "metadata": {},
   "source": [
    "# Part One"
   ]
  },
  {
   "cell_type": "markdown",
   "id": "dd01cc51-8819-4d9e-8254-37439284c400",
   "metadata": {},
   "source": [
    "## 1A - Base Model"
   ]
  },
  {
   "cell_type": "code",
   "execution_count": 3,
   "id": "864139e9-f857-454d-b4cc-fd714e825ce6",
   "metadata": {
    "tags": []
   },
   "outputs": [],
   "source": [
    "class SingleProductSPF(Model):\n",
    "    def __init__(self, fixed_cost=60e+3, var_cost=90, selling_price=120, spf_scale=10e+6, spf_exponent=-1.8):\n",
    "        self.fixed_cost = fixed_cost\n",
    "        self.var_cost = var_cost\n",
    "        self.selling_price = selling_price\n",
    "        self.spf_scale = spf_scale\n",
    "        self.spf_exponent = spf_exponent\n",
    "        \n",
    "    def SPF_demand(self):\n",
    "        \"\"\"compute demand\"\"\"\n",
    "        return self.spf_scale * self.selling_price ** self.spf_exponent\n",
    "    \n",
    "    def total_cost(self):\n",
    "        \"\"\"compute total cost\"\"\"\n",
    "        return self.fixed_cost + self.var_cost * self.SPF_demand()\n",
    "        \n",
    "        \n",
    "    def revenue(self):\n",
    "        \"\"\"compute revenue\"\"\"\n",
    "        return self.selling_price * self.SPF_demand()\n",
    "        \n",
    "        \n",
    "    def profit(self):\n",
    "        \"\"\"compute profit\"\"\"\n",
    "        profit = self.revenue() - self.total_cost()\n",
    "        return profit\n",
    "    \n",
    "    "
   ]
  },
  {
   "cell_type": "code",
   "execution_count": 4,
   "id": "d9f0db89-32d3-4c8e-8802-322d6c87ff6c",
   "metadata": {},
   "outputs": [],
   "source": [
    "model = SingleProductSPF()"
   ]
  },
  {
   "cell_type": "code",
   "execution_count": 5,
   "id": "d2cc897d-57f0-4770-880d-028360e59694",
   "metadata": {},
   "outputs": [
    {
     "data": {
      "text/plain": [
       "217097.59039144596"
      ]
     },
     "execution_count": 5,
     "metadata": {},
     "output_type": "execute_result"
    }
   ],
   "source": [
    "model.revenue()"
   ]
  },
  {
   "cell_type": "code",
   "execution_count": 6,
   "id": "c10b0a75-b429-425f-b788-5ebcbc43b295",
   "metadata": {},
   "outputs": [
    {
     "data": {
      "text/plain": [
       "-5725.602402138524"
      ]
     },
     "execution_count": 6,
     "metadata": {},
     "output_type": "execute_result"
    }
   ],
   "source": [
    "model.profit()"
   ]
  },
  {
   "cell_type": "code",
   "execution_count": 7,
   "id": "e042d150-4003-4009-9a74-1cbc6ee98963",
   "metadata": {},
   "outputs": [],
   "source": [
    "model = SingleProductSPF(selling_price = 150)"
   ]
  },
  {
   "cell_type": "code",
   "execution_count": 8,
   "id": "54a92e2c-69a2-4b09-8691-15aa32782610",
   "metadata": {},
   "outputs": [
    {
     "data": {
      "text/plain": [
       "12641.864731377602"
      ]
     },
     "execution_count": 8,
     "metadata": {},
     "output_type": "execute_result"
    }
   ],
   "source": [
    "model.profit()"
   ]
  },
  {
   "cell_type": "code",
   "execution_count": 9,
   "id": "0c1503b1-97f3-4e64-a0c3-0927e598b6b8",
   "metadata": {},
   "outputs": [
    {
     "data": {
      "text/plain": [
       "1210.69774552296"
      ]
     },
     "execution_count": 9,
     "metadata": {},
     "output_type": "execute_result"
    }
   ],
   "source": [
    "model.SPF_demand()"
   ]
  },
  {
   "cell_type": "markdown",
   "id": "0c3aa753-d689-4523-a52a-bf08e204022f",
   "metadata": {},
   "source": [
    "## 1B - One Way Data Table"
   ]
  },
  {
   "cell_type": "code",
   "execution_count": 23,
   "id": "e7c8919b-4e29-4e70-8048-a88c5bd017ad",
   "metadata": {
    "tags": []
   },
   "outputs": [],
   "source": [
    "dt_param_ranges_1 = {'selling_price': np.arange(90, 190, 10)}"
   ]
  },
  {
   "cell_type": "code",
   "execution_count": null,
   "id": "7037c009-dbd5-4003-bf66-fc2ea26c6cc7",
   "metadata": {},
   "outputs": [],
   "source": [
    "dt_param_ranges_1 = {'selling_price': np.arange(90, 190, 10)}\n",
    "outputs = ['profit', 'SPF_demand']\n",
    "m_dt1_df = Model.data_table(model, dt_param_ranges_1, outputs)\n",
    "\n",
    "ax = m_dt1_df.plot(x=\"selling_price\", y=\"profit\", legend=False)\n",
    "y_labels = ax.get_yticks()\n",
    "ax.figure.legend()\n",
    "plt.show()"
   ]
  },
  {
   "cell_type": "code",
   "execution_count": 24,
   "id": "c354fb74-cc27-49d4-a0a8-fb7b088cf646",
   "metadata": {},
   "outputs": [],
   "source": [
    "outputs = ['profit', 'SPF_demand']"
   ]
  },
  {
   "cell_type": "code",
   "execution_count": 25,
   "id": "106b920f-883c-49bb-8ede-ab01c5a0f899",
   "metadata": {},
   "outputs": [],
   "source": [
    "m_dt1_df = Model.data_table(model, dt_param_ranges_1, outputs)"
   ]
  },
  {
   "cell_type": "code",
   "execution_count": 26,
   "id": "18c96a41-9d26-4bcd-9773-72b3750f891c",
   "metadata": {},
   "outputs": [
    {
     "data": {
      "text/html": [
       "<div>\n",
       "<style scoped>\n",
       "    .dataframe tbody tr th:only-of-type {\n",
       "        vertical-align: middle;\n",
       "    }\n",
       "\n",
       "    .dataframe tbody tr th {\n",
       "        vertical-align: top;\n",
       "    }\n",
       "\n",
       "    .dataframe thead th {\n",
       "        text-align: right;\n",
       "    }\n",
       "</style>\n",
       "<table border=\"1\" class=\"dataframe\">\n",
       "  <thead>\n",
       "    <tr style=\"text-align: right;\">\n",
       "      <th></th>\n",
       "      <th>selling_price</th>\n",
       "      <th>profit</th>\n",
       "      <th>SPF_demand</th>\n",
       "    </tr>\n",
       "  </thead>\n",
       "  <tbody>\n",
       "    <tr>\n",
       "      <th>0</th>\n",
       "      <td>90</td>\n",
       "      <td>-60000.000000</td>\n",
       "      <td>3036.431464</td>\n",
       "    </tr>\n",
       "    <tr>\n",
       "      <th>1</th>\n",
       "      <td>100</td>\n",
       "      <td>-34881.135685</td>\n",
       "      <td>2511.886432</td>\n",
       "    </tr>\n",
       "    <tr>\n",
       "      <th>2</th>\n",
       "      <td>110</td>\n",
       "      <td>-17682.192138</td>\n",
       "      <td>2115.890393</td>\n",
       "    </tr>\n",
       "    <tr>\n",
       "      <th>3</th>\n",
       "      <td>120</td>\n",
       "      <td>-5725.602402</td>\n",
       "      <td>1809.146587</td>\n",
       "    </tr>\n",
       "    <tr>\n",
       "      <th>4</th>\n",
       "      <td>130</td>\n",
       "      <td>2655.897768</td>\n",
       "      <td>1566.397444</td>\n",
       "    </tr>\n",
       "    <tr>\n",
       "      <th>5</th>\n",
       "      <td>140</td>\n",
       "      <td>8539.280352</td>\n",
       "      <td>1370.785607</td>\n",
       "    </tr>\n",
       "    <tr>\n",
       "      <th>6</th>\n",
       "      <td>150</td>\n",
       "      <td>12641.864731</td>\n",
       "      <td>1210.697746</td>\n",
       "    </tr>\n",
       "    <tr>\n",
       "      <th>7</th>\n",
       "      <td>160</td>\n",
       "      <td>15453.965861</td>\n",
       "      <td>1077.913798</td>\n",
       "    </tr>\n",
       "    <tr>\n",
       "      <th>8</th>\n",
       "      <td>170</td>\n",
       "      <td>17318.234466</td>\n",
       "      <td>966.477931</td>\n",
       "    </tr>\n",
       "    <tr>\n",
       "      <th>9</th>\n",
       "      <td>180</td>\n",
       "      <td>18478.736125</td>\n",
       "      <td>871.985957</td>\n",
       "    </tr>\n",
       "  </tbody>\n",
       "</table>\n",
       "</div>"
      ],
      "text/plain": [
       "   selling_price        profit   SPF_demand\n",
       "0             90 -60000.000000  3036.431464\n",
       "1            100 -34881.135685  2511.886432\n",
       "2            110 -17682.192138  2115.890393\n",
       "3            120  -5725.602402  1809.146587\n",
       "4            130   2655.897768  1566.397444\n",
       "5            140   8539.280352  1370.785607\n",
       "6            150  12641.864731  1210.697746\n",
       "7            160  15453.965861  1077.913798\n",
       "8            170  17318.234466   966.477931\n",
       "9            180  18478.736125   871.985957"
      ]
     },
     "execution_count": 26,
     "metadata": {},
     "output_type": "execute_result"
    }
   ],
   "source": [
    "m_dt1_df"
   ]
  },
  {
   "cell_type": "code",
   "execution_count": 14,
   "id": "323e6483-aee1-4cd5-83de-3425df8877ef",
   "metadata": {},
   "outputs": [],
   "source": [
    "import matplotlib.pyplot as plt\n",
    "import seaborn as sns"
   ]
  },
  {
   "cell_type": "code",
   "execution_count": 15,
   "id": "75440f34-3710-4766-a19c-ab7d3d8b92cc",
   "metadata": {},
   "outputs": [],
   "source": [
    "from matplotlib.ticker import FormatStrFormatter"
   ]
  },
  {
   "cell_type": "code",
   "execution_count": 50,
   "id": "03c02b74-35e5-4fac-b927-969942b5db89",
   "metadata": {},
   "outputs": [
    {
     "data": {
      "image/png": "[encoded data removed]",
      "text/plain": [
       "<Figure size 432x288 with 1 Axes>"
      ]
     },
     "metadata": {
      "needs_background": "light"
     },
     "output_type": "display_data"
    }
   ],
   "source": [
    "ax = m_dt1_df.plot(x=\"selling_price\", y=\"profit\", legend=False)\n",
    "plt.ylabel('Profit')\n",
    "plt.xlabel('Selling Price')\n",
    "plt.title('Price/Profit Analysis')\n",
    "plt.show()"
   ]
  },
  {
   "cell_type": "markdown",
   "id": "a8c8f443-821b-4fa9-a252-ae97a62e941a",
   "metadata": {},
   "source": [
    "We have a quadradic shape to the graph due to our exponential demand function. Since profit is calculated using the demand function (inside of the total_cost function) we see its effect on the graph more clearly in the graph below. Here we have created a table that lists scenarios for prices ranging from \\\\$90 to \\\\$450. Now its clear that there is a limit near \\\\$20K profit where we will begin to see higher prices hamper demand for the product. "
   ]
  },
  {
   "cell_type": "code",
   "execution_count": 65,
   "id": "6cce8fa8-4aa2-4a84-9585-aec4995e6c9f",
   "metadata": {},
   "outputs": [
    {
     "data": {
      "image/png": "[encoded data removed]",
      "text/plain": [
       "<Figure size 432x288 with 1 Axes>"
      ]
     },
     "metadata": {
      "needs_background": "light"
     },
     "output_type": "display_data"
    }
   ],
   "source": [
    "dt_param_ranges_test = {'selling_price': np.arange(90, 450, 10)}\n",
    "outputs = ['profit', 'SPF_demand']\n",
    "m_dttest_df = Model.data_table(model, dt_param_ranges_test, outputs)\n",
    "\n",
    "ax = m_dttest_df.plot(x=\"selling_price\", y=\"profit\", legend=False)\n",
    "plt.ylabel('Profit')\n",
    "plt.xlabel('Selling Price')\n",
    "plt.title('Price/Profit Analysis')\n",
    "ax.yaxis.set_major_formatter(plt.FormatStrFormatter('$%.0f'))\n",
    "ax.xaxis.set_major_formatter(plt.FormatStrFormatter('$%.0f'))\n",
    "plt.show()"
   ]
  },
  {
   "cell_type": "code",
   "execution_count": 74,
   "id": "c115cdc6-db40-4f0f-af5f-4ffcf0d5ccd6",
   "metadata": {},
   "outputs": [
    {
     "data": {
      "image/png": "[encoded data removed]",
      "text/plain": [
       "<Figure size 432x288 with 2 Axes>"
      ]
     },
     "metadata": {
      "needs_background": "light"
     },
     "output_type": "display_data"
    }
   ],
   "source": [
    "ax = m_dttest_df.plot(x=\"profit\", y=\"selling_price\", legend=False)\n",
    "ax2 = ax.twinx()\n",
    "m_dttest_df.plot(x=\"profit\", y=\"SPF_demand\", ax=ax2, legend=False, color=\"r\")\n",
    "ax.yaxis.set_major_formatter(plt.FormatStrFormatter('$%.0f'))\n",
    "ax.xaxis.set_major_formatter(plt.FormatStrFormatter('$%.0f'))\n",
    "ax.figure.legend()\n",
    "plt.show()"
   ]
  },
  {
   "cell_type": "markdown",
   "id": "386fedb1-c6a2-4065-8d13-01135275b8e0",
   "metadata": {},
   "source": [
    "## 1C - Break-even Analysis"
   ]
  },
  {
   "cell_type": "code",
   "execution_count": 75,
   "id": "5e827ec2-6389-4296-924a-0337b7e36ae9",
   "metadata": {},
   "outputs": [
    {
     "data": {
      "text/plain": [
       "126.4338913592207"
      ]
     },
     "execution_count": 75,
     "metadata": {},
     "output_type": "execute_result"
    }
   ],
   "source": [
    "Model.goal_seek(model, 'profit', 0, 'selling_price', 1, 250, N=100)"
   ]
  },
  {
   "cell_type": "markdown",
   "id": "a009ad31-1b36-422d-a611-b88d84d4bda8",
   "metadata": {},
   "source": [
    "The break even price for this particular model is \\\\$126.43"
   ]
  },
  {
   "cell_type": "code",
   "execution_count": 76,
   "id": "c40b9866-b012-4d18-9eaf-b8c3156a4583",
   "metadata": {},
   "outputs": [
    {
     "name": "stdout",
     "output_type": "stream",
     "text": [
      "{'fixed_cost': 60000.0, 'var_cost': 90, 'selling_price': 150, 'spf_scale': 10000000.0, 'spf_exponent': -1.8}\n"
     ]
    }
   ],
   "source": [
    "print(model)\n"
   ]
  },
  {
   "cell_type": "markdown",
   "id": "62e57c87-8f74-4bac-ba1d-def632bee98e",
   "metadata": {},
   "source": [
    "## 1D - Two Way Data Table"
   ]
  },
  {
   "cell_type": "code",
   "execution_count": 77,
   "id": "27ffaa2e-4e41-41fe-8822-a841f439216d",
   "metadata": {},
   "outputs": [
    {
     "data": {
      "text/html": [
       "<div>\n",
       "<style scoped>\n",
       "    .dataframe tbody tr th:only-of-type {\n",
       "        vertical-align: middle;\n",
       "    }\n",
       "\n",
       "    .dataframe tbody tr th {\n",
       "        vertical-align: top;\n",
       "    }\n",
       "\n",
       "    .dataframe thead th {\n",
       "        text-align: right;\n",
       "    }\n",
       "</style>\n",
       "<table border=\"1\" class=\"dataframe\">\n",
       "  <thead>\n",
       "    <tr style=\"text-align: right;\">\n",
       "      <th></th>\n",
       "      <th>selling_price</th>\n",
       "      <th>var_cost</th>\n",
       "      <th>profit</th>\n",
       "      <th>total_cost</th>\n",
       "    </tr>\n",
       "  </thead>\n",
       "  <tbody>\n",
       "    <tr>\n",
       "      <th>0</th>\n",
       "      <td>90</td>\n",
       "      <td>85</td>\n",
       "      <td>-44817.842680</td>\n",
       "      <td>318096.674441</td>\n",
       "    </tr>\n",
       "    <tr>\n",
       "      <th>1</th>\n",
       "      <td>90</td>\n",
       "      <td>90</td>\n",
       "      <td>-60000.000000</td>\n",
       "      <td>333278.831761</td>\n",
       "    </tr>\n",
       "    <tr>\n",
       "      <th>2</th>\n",
       "      <td>90</td>\n",
       "      <td>95</td>\n",
       "      <td>-75182.157320</td>\n",
       "      <td>348460.989081</td>\n",
       "    </tr>\n",
       "    <tr>\n",
       "      <th>3</th>\n",
       "      <td>90</td>\n",
       "      <td>100</td>\n",
       "      <td>-90364.314640</td>\n",
       "      <td>363643.146401</td>\n",
       "    </tr>\n",
       "    <tr>\n",
       "      <th>4</th>\n",
       "      <td>90</td>\n",
       "      <td>105</td>\n",
       "      <td>-105546.471960</td>\n",
       "      <td>378825.303721</td>\n",
       "    </tr>\n",
       "    <tr>\n",
       "      <th>5</th>\n",
       "      <td>100</td>\n",
       "      <td>85</td>\n",
       "      <td>-22321.703527</td>\n",
       "      <td>273510.346678</td>\n",
       "    </tr>\n",
       "    <tr>\n",
       "      <th>6</th>\n",
       "      <td>100</td>\n",
       "      <td>90</td>\n",
       "      <td>-34881.135685</td>\n",
       "      <td>286069.778836</td>\n",
       "    </tr>\n",
       "    <tr>\n",
       "      <th>7</th>\n",
       "      <td>100</td>\n",
       "      <td>95</td>\n",
       "      <td>-47440.567842</td>\n",
       "      <td>298629.210993</td>\n",
       "    </tr>\n",
       "    <tr>\n",
       "      <th>8</th>\n",
       "      <td>100</td>\n",
       "      <td>100</td>\n",
       "      <td>-60000.000000</td>\n",
       "      <td>311188.643151</td>\n",
       "    </tr>\n",
       "    <tr>\n",
       "      <th>9</th>\n",
       "      <td>100</td>\n",
       "      <td>105</td>\n",
       "      <td>-72559.432158</td>\n",
       "      <td>323748.075309</td>\n",
       "    </tr>\n",
       "    <tr>\n",
       "      <th>10</th>\n",
       "      <td>110</td>\n",
       "      <td>85</td>\n",
       "      <td>-7102.740173</td>\n",
       "      <td>239850.683413</td>\n",
       "    </tr>\n",
       "    <tr>\n",
       "      <th>11</th>\n",
       "      <td>110</td>\n",
       "      <td>90</td>\n",
       "      <td>-17682.192138</td>\n",
       "      <td>250430.135379</td>\n",
       "    </tr>\n",
       "    <tr>\n",
       "      <th>12</th>\n",
       "      <td>110</td>\n",
       "      <td>95</td>\n",
       "      <td>-28261.644104</td>\n",
       "      <td>261009.587344</td>\n",
       "    </tr>\n",
       "    <tr>\n",
       "      <th>13</th>\n",
       "      <td>110</td>\n",
       "      <td>100</td>\n",
       "      <td>-38841.096069</td>\n",
       "      <td>271589.039309</td>\n",
       "    </tr>\n",
       "    <tr>\n",
       "      <th>14</th>\n",
       "      <td>110</td>\n",
       "      <td>105</td>\n",
       "      <td>-49420.548035</td>\n",
       "      <td>282168.491275</td>\n",
       "    </tr>\n",
       "    <tr>\n",
       "      <th>15</th>\n",
       "      <td>120</td>\n",
       "      <td>85</td>\n",
       "      <td>3320.130531</td>\n",
       "      <td>213777.459861</td>\n",
       "    </tr>\n",
       "    <tr>\n",
       "      <th>16</th>\n",
       "      <td>120</td>\n",
       "      <td>90</td>\n",
       "      <td>-5725.602402</td>\n",
       "      <td>222823.192794</td>\n",
       "    </tr>\n",
       "    <tr>\n",
       "      <th>17</th>\n",
       "      <td>120</td>\n",
       "      <td>95</td>\n",
       "      <td>-14771.335335</td>\n",
       "      <td>231868.925727</td>\n",
       "    </tr>\n",
       "    <tr>\n",
       "      <th>18</th>\n",
       "      <td>120</td>\n",
       "      <td>100</td>\n",
       "      <td>-23817.068268</td>\n",
       "      <td>240914.658660</td>\n",
       "    </tr>\n",
       "    <tr>\n",
       "      <th>19</th>\n",
       "      <td>120</td>\n",
       "      <td>105</td>\n",
       "      <td>-32862.801201</td>\n",
       "      <td>249960.391593</td>\n",
       "    </tr>\n",
       "    <tr>\n",
       "      <th>20</th>\n",
       "      <td>130</td>\n",
       "      <td>85</td>\n",
       "      <td>10487.884989</td>\n",
       "      <td>193143.782757</td>\n",
       "    </tr>\n",
       "    <tr>\n",
       "      <th>21</th>\n",
       "      <td>130</td>\n",
       "      <td>90</td>\n",
       "      <td>2655.897768</td>\n",
       "      <td>200975.769978</td>\n",
       "    </tr>\n",
       "    <tr>\n",
       "      <th>22</th>\n",
       "      <td>130</td>\n",
       "      <td>95</td>\n",
       "      <td>-5176.089453</td>\n",
       "      <td>208807.757199</td>\n",
       "    </tr>\n",
       "    <tr>\n",
       "      <th>23</th>\n",
       "      <td>130</td>\n",
       "      <td>100</td>\n",
       "      <td>-13008.076674</td>\n",
       "      <td>216639.744420</td>\n",
       "    </tr>\n",
       "    <tr>\n",
       "      <th>24</th>\n",
       "      <td>130</td>\n",
       "      <td>105</td>\n",
       "      <td>-20840.063895</td>\n",
       "      <td>224471.731641</td>\n",
       "    </tr>\n",
       "    <tr>\n",
       "      <th>25</th>\n",
       "      <td>140</td>\n",
       "      <td>85</td>\n",
       "      <td>15393.208387</td>\n",
       "      <td>176516.776598</td>\n",
       "    </tr>\n",
       "    <tr>\n",
       "      <th>26</th>\n",
       "      <td>140</td>\n",
       "      <td>90</td>\n",
       "      <td>8539.280352</td>\n",
       "      <td>183370.704633</td>\n",
       "    </tr>\n",
       "    <tr>\n",
       "      <th>27</th>\n",
       "      <td>140</td>\n",
       "      <td>95</td>\n",
       "      <td>1685.352317</td>\n",
       "      <td>190224.632668</td>\n",
       "    </tr>\n",
       "    <tr>\n",
       "      <th>28</th>\n",
       "      <td>140</td>\n",
       "      <td>100</td>\n",
       "      <td>-5168.575719</td>\n",
       "      <td>197078.560703</td>\n",
       "    </tr>\n",
       "    <tr>\n",
       "      <th>29</th>\n",
       "      <td>140</td>\n",
       "      <td>105</td>\n",
       "      <td>-12022.503754</td>\n",
       "      <td>203932.488739</td>\n",
       "    </tr>\n",
       "    <tr>\n",
       "      <th>30</th>\n",
       "      <td>150</td>\n",
       "      <td>85</td>\n",
       "      <td>18695.353459</td>\n",
       "      <td>162909.308369</td>\n",
       "    </tr>\n",
       "    <tr>\n",
       "      <th>31</th>\n",
       "      <td>150</td>\n",
       "      <td>90</td>\n",
       "      <td>12641.864731</td>\n",
       "      <td>168962.797097</td>\n",
       "    </tr>\n",
       "    <tr>\n",
       "      <th>32</th>\n",
       "      <td>150</td>\n",
       "      <td>95</td>\n",
       "      <td>6588.376004</td>\n",
       "      <td>175016.285825</td>\n",
       "    </tr>\n",
       "    <tr>\n",
       "      <th>33</th>\n",
       "      <td>150</td>\n",
       "      <td>100</td>\n",
       "      <td>534.887276</td>\n",
       "      <td>181069.774552</td>\n",
       "    </tr>\n",
       "    <tr>\n",
       "      <th>34</th>\n",
       "      <td>150</td>\n",
       "      <td>105</td>\n",
       "      <td>-5518.601451</td>\n",
       "      <td>187123.263280</td>\n",
       "    </tr>\n",
       "    <tr>\n",
       "      <th>35</th>\n",
       "      <td>160</td>\n",
       "      <td>85</td>\n",
       "      <td>20843.534851</td>\n",
       "      <td>151622.672831</td>\n",
       "    </tr>\n",
       "    <tr>\n",
       "      <th>36</th>\n",
       "      <td>160</td>\n",
       "      <td>90</td>\n",
       "      <td>15453.965861</td>\n",
       "      <td>157012.241821</td>\n",
       "    </tr>\n",
       "    <tr>\n",
       "      <th>37</th>\n",
       "      <td>160</td>\n",
       "      <td>95</td>\n",
       "      <td>10064.396871</td>\n",
       "      <td>162401.810812</td>\n",
       "    </tr>\n",
       "    <tr>\n",
       "      <th>38</th>\n",
       "      <td>160</td>\n",
       "      <td>100</td>\n",
       "      <td>4674.827881</td>\n",
       "      <td>167791.379802</td>\n",
       "    </tr>\n",
       "    <tr>\n",
       "      <th>39</th>\n",
       "      <td>160</td>\n",
       "      <td>105</td>\n",
       "      <td>-714.741109</td>\n",
       "      <td>173180.948792</td>\n",
       "    </tr>\n",
       "    <tr>\n",
       "      <th>40</th>\n",
       "      <td>170</td>\n",
       "      <td>85</td>\n",
       "      <td>22150.624120</td>\n",
       "      <td>142150.624120</td>\n",
       "    </tr>\n",
       "    <tr>\n",
       "      <th>41</th>\n",
       "      <td>170</td>\n",
       "      <td>90</td>\n",
       "      <td>17318.234466</td>\n",
       "      <td>146983.013774</td>\n",
       "    </tr>\n",
       "    <tr>\n",
       "      <th>42</th>\n",
       "      <td>170</td>\n",
       "      <td>95</td>\n",
       "      <td>12485.844812</td>\n",
       "      <td>151815.403428</td>\n",
       "    </tr>\n",
       "    <tr>\n",
       "      <th>43</th>\n",
       "      <td>170</td>\n",
       "      <td>100</td>\n",
       "      <td>7653.455158</td>\n",
       "      <td>156647.793082</td>\n",
       "    </tr>\n",
       "    <tr>\n",
       "      <th>44</th>\n",
       "      <td>170</td>\n",
       "      <td>105</td>\n",
       "      <td>2821.065504</td>\n",
       "      <td>161480.182736</td>\n",
       "    </tr>\n",
       "    <tr>\n",
       "      <th>45</th>\n",
       "      <td>180</td>\n",
       "      <td>85</td>\n",
       "      <td>22838.665910</td>\n",
       "      <td>134118.806340</td>\n",
       "    </tr>\n",
       "    <tr>\n",
       "      <th>46</th>\n",
       "      <td>180</td>\n",
       "      <td>90</td>\n",
       "      <td>18478.736125</td>\n",
       "      <td>138478.736125</td>\n",
       "    </tr>\n",
       "    <tr>\n",
       "      <th>47</th>\n",
       "      <td>180</td>\n",
       "      <td>95</td>\n",
       "      <td>14118.806340</td>\n",
       "      <td>142838.665910</td>\n",
       "    </tr>\n",
       "    <tr>\n",
       "      <th>48</th>\n",
       "      <td>180</td>\n",
       "      <td>100</td>\n",
       "      <td>9758.876555</td>\n",
       "      <td>147198.595694</td>\n",
       "    </tr>\n",
       "    <tr>\n",
       "      <th>49</th>\n",
       "      <td>180</td>\n",
       "      <td>105</td>\n",
       "      <td>5398.946771</td>\n",
       "      <td>151558.525479</td>\n",
       "    </tr>\n",
       "  </tbody>\n",
       "</table>\n",
       "</div>"
      ],
      "text/plain": [
       "    selling_price  var_cost         profit     total_cost\n",
       "0              90        85  -44817.842680  318096.674441\n",
       "1              90        90  -60000.000000  333278.831761\n",
       "2              90        95  -75182.157320  348460.989081\n",
       "3              90       100  -90364.314640  363643.146401\n",
       "4              90       105 -105546.471960  378825.303721\n",
       "5             100        85  -22321.703527  273510.346678\n",
       "6             100        90  -34881.135685  286069.778836\n",
       "7             100        95  -47440.567842  298629.210993\n",
       "8             100       100  -60000.000000  311188.643151\n",
       "9             100       105  -72559.432158  323748.075309\n",
       "10            110        85   -7102.740173  239850.683413\n",
       "11            110        90  -17682.192138  250430.135379\n",
       "12            110        95  -28261.644104  261009.587344\n",
       "13            110       100  -38841.096069  271589.039309\n",
       "14            110       105  -49420.548035  282168.491275\n",
       "15            120        85    3320.130531  213777.459861\n",
       "16            120        90   -5725.602402  222823.192794\n",
       "17            120        95  -14771.335335  231868.925727\n",
       "18            120       100  -23817.068268  240914.658660\n",
       "19            120       105  -32862.801201  249960.391593\n",
       "20            130        85   10487.884989  193143.782757\n",
       "21            130        90    2655.897768  200975.769978\n",
       "22            130        95   -5176.089453  208807.757199\n",
       "23            130       100  -13008.076674  216639.744420\n",
       "24            130       105  -20840.063895  224471.731641\n",
       "25            140        85   15393.208387  176516.776598\n",
       "26            140        90    8539.280352  183370.704633\n",
       "27            140        95    1685.352317  190224.632668\n",
       "28            140       100   -5168.575719  197078.560703\n",
       "29            140       105  -12022.503754  203932.488739\n",
       "30            150        85   18695.353459  162909.308369\n",
       "31            150        90   12641.864731  168962.797097\n",
       "32            150        95    6588.376004  175016.285825\n",
       "33            150       100     534.887276  181069.774552\n",
       "34            150       105   -5518.601451  187123.263280\n",
       "35            160        85   20843.534851  151622.672831\n",
       "36            160        90   15453.965861  157012.241821\n",
       "37            160        95   10064.396871  162401.810812\n",
       "38            160       100    4674.827881  167791.379802\n",
       "39            160       105    -714.741109  173180.948792\n",
       "40            170        85   22150.624120  142150.624120\n",
       "41            170        90   17318.234466  146983.013774\n",
       "42            170        95   12485.844812  151815.403428\n",
       "43            170       100    7653.455158  156647.793082\n",
       "44            170       105    2821.065504  161480.182736\n",
       "45            180        85   22838.665910  134118.806340\n",
       "46            180        90   18478.736125  138478.736125\n",
       "47            180        95   14118.806340  142838.665910\n",
       "48            180       100    9758.876555  147198.595694\n",
       "49            180       105    5398.946771  151558.525479"
      ]
     },
     "execution_count": 77,
     "metadata": {},
     "output_type": "execute_result"
    }
   ],
   "source": [
    "# Specify input ranges for scenarios (dictionary)\n",
    "dt_param_ranges = {'selling_price': np.arange(90, 190, 10),\n",
    "                   'var_cost': np.arange(85, 110, 5)}\n",
    "\n",
    "# Specify desired outputs (list)\n",
    "outputs = ['profit', 'total_cost']\n",
    "\n",
    "# Use data_table function\n",
    "m_dt1_df = Model.data_table(model, dt_param_ranges, outputs)\n",
    "m_dt1_df"
   ]
  },
  {
   "cell_type": "code",
   "execution_count": 78,
   "id": "4eee200c-2786-4ef1-900e-f1392f0f713d",
   "metadata": {},
   "outputs": [
    {
     "data": {
      "image/png": "[encoded data removed]",
      "text/plain": [
       "<Figure size 648x432 with 5 Axes>"
      ]
     },
     "metadata": {
      "needs_background": "light"
     },
     "output_type": "display_data"
    }
   ],
   "source": [
    "profit_dt_g = sns.FacetGrid(m_dt1_df, col=\"var_cost\", sharey=True, col_wrap=3)\n",
    "profit_dt_g = profit_dt_g.map(plt.plot, \"selling_price\", \"profit\")"
   ]
  },
  {
   "cell_type": "code",
   "execution_count": 79,
   "id": "d8921342-5dc8-4ba4-a0ff-0d4233c3038f",
   "metadata": {},
   "outputs": [
    {
     "data": {
      "image/png": "[encoded data removed]",
      "text/plain": [
       "<Figure size 648x864 with 10 Axes>"
      ]
     },
     "metadata": {
      "needs_background": "light"
     },
     "output_type": "display_data"
    }
   ],
   "source": [
    "profit_dt_g = sns.FacetGrid(m_dt1_df, col=\"selling_price\", sharey=True, col_wrap=3)\n",
    "profit_dt_g = profit_dt_g.map(plt.plot, \"var_cost\", \"profit\")"
   ]
  },
  {
   "cell_type": "code",
   "execution_count": 80,
   "id": "197fb4da-4f58-4842-b2cb-8cbe4d1a40b1",
   "metadata": {},
   "outputs": [
    {
     "data": {
      "image/png": "[encoded data removed]",
      "text/plain": [
       "<Figure size 648x432 with 5 Axes>"
      ]
     },
     "metadata": {
      "needs_background": "light"
     },
     "output_type": "display_data"
    }
   ],
   "source": [
    "profit_dt_g = sns.FacetGrid(m_dt1_df, col=\"var_cost\", sharey=True, col_wrap=3)\n",
    "profit_dt_g = profit_dt_g.map(plt.plot, \"selling_price\", \"total_cost\")"
   ]
  },
  {
   "cell_type": "code",
   "execution_count": 81,
   "id": "3f343e33-f124-498c-ac3c-e39f1f0d20f8",
   "metadata": {},
   "outputs": [
    {
     "data": {
      "image/png": "[encoded data removed]",
      "text/plain": [
       "<Figure size 648x864 with 10 Axes>"
      ]
     },
     "metadata": {
      "needs_background": "light"
     },
     "output_type": "display_data"
    }
   ],
   "source": [
    "profit_dt_g = sns.FacetGrid(m_dt1_df, col=\"selling_price\", sharey=True, col_wrap=3)\n",
    "profit_dt_g = profit_dt_g.map(plt.plot, \"var_cost\", \"total_cost\")"
   ]
  },
  {
   "cell_type": "markdown",
   "id": "719a2278-bde5-4111-97df-5228a9dc5ebf",
   "metadata": {},
   "source": [
    "## 1E - Simulation"
   ]
  },
  {
   "cell_type": "code",
   "execution_count": 115,
   "id": "a7a09ff5-8210-4af6-a7f7-6a3819e6572d",
   "metadata": {
    "tags": []
   },
   "outputs": [],
   "source": [
    "from numpy.random import default_rng\n",
    "rg = default_rng(4470)"
   ]
  },
  {
   "cell_type": "code",
   "execution_count": 136,
   "id": "982114e2-1a75-4538-ac6a-aabddd75be5a",
   "metadata": {},
   "outputs": [],
   "source": [
    "from scipy import stats"
   ]
  },
  {
   "cell_type": "code",
   "execution_count": 138,
   "id": "97ca85dd-bd2d-4e06-a0c7-5da46fc7747b",
   "metadata": {
    "tags": []
   },
   "outputs": [],
   "source": [
    "num_reps = 1000\n",
    "demand_sim = rg.uniform(-2.0, -1.6, size=num_reps)\n",
    "\n",
    "sim_outputs = ['profit']\n",
    "random_inputs = {'spf_exponent': demand_sim }"
   ]
  },
  {
   "cell_type": "code",
   "execution_count": 139,
   "id": "a5735a2d-8daa-4e04-8516-026b35892c12",
   "metadata": {},
   "outputs": [],
   "source": [
    "sim_results = Model.simulate(model, random_inputs, sim_outputs, scenario_inputs=None, keep_random_inputs=False)"
   ]
  },
  {
   "cell_type": "code",
   "execution_count": 140,
   "id": "4f48894c-519f-4010-9ce3-2478b2787acd",
   "metadata": {},
   "outputs": [],
   "source": [
    "def get_sim_results_df(results):\n",
    "    \n",
    "    dfs = []    \n",
    "    for r in results:\n",
    "        df = pd.DataFrame(r['output'])\n",
    "        df['scenario_num'] = r['scenario_num']\n",
    "        for key, val in r['scenario_vals'].items():\n",
    "            df[key] = val\n",
    "            \n",
    "        dfs.append(df)\n",
    "\n",
    "    results_df = pd.concat(dfs)\n",
    "    \n",
    "    return results_df"
   ]
  },
  {
   "cell_type": "code",
   "execution_count": 141,
   "id": "1d1c6a83-c998-475d-ae2a-8b8190322090",
   "metadata": {},
   "outputs": [],
   "source": [
    "sim_results_df = get_sim_results_df(sim_results)"
   ]
  },
  {
   "cell_type": "code",
   "execution_count": 142,
   "id": "842f88a8-44c2-4756-a5a9-6944ab78889b",
   "metadata": {},
   "outputs": [
    {
     "data": {
      "text/html": [
       "<div>\n",
       "<style scoped>\n",
       "    .dataframe tbody tr th:only-of-type {\n",
       "        vertical-align: middle;\n",
       "    }\n",
       "\n",
       "    .dataframe tbody tr th {\n",
       "        vertical-align: top;\n",
       "    }\n",
       "\n",
       "    .dataframe thead th {\n",
       "        text-align: right;\n",
       "    }\n",
       "</style>\n",
       "<table border=\"1\" class=\"dataframe\">\n",
       "  <thead>\n",
       "    <tr style=\"text-align: right;\">\n",
       "      <th></th>\n",
       "      <th>profit</th>\n",
       "      <th>scenario_num</th>\n",
       "    </tr>\n",
       "  </thead>\n",
       "  <tbody>\n",
       "    <tr>\n",
       "      <th>0</th>\n",
       "      <td>-6681.109976</td>\n",
       "      <td>0</td>\n",
       "    </tr>\n",
       "    <tr>\n",
       "      <th>1</th>\n",
       "      <td>43876.696883</td>\n",
       "      <td>0</td>\n",
       "    </tr>\n",
       "    <tr>\n",
       "      <th>2</th>\n",
       "      <td>69683.584802</td>\n",
       "      <td>0</td>\n",
       "    </tr>\n",
       "    <tr>\n",
       "      <th>3</th>\n",
       "      <td>-7591.593917</td>\n",
       "      <td>0</td>\n",
       "    </tr>\n",
       "    <tr>\n",
       "      <th>4</th>\n",
       "      <td>-16049.064783</td>\n",
       "      <td>0</td>\n",
       "    </tr>\n",
       "    <tr>\n",
       "      <th>...</th>\n",
       "      <td>...</td>\n",
       "      <td>...</td>\n",
       "    </tr>\n",
       "    <tr>\n",
       "      <th>995</th>\n",
       "      <td>5651.957764</td>\n",
       "      <td>0</td>\n",
       "    </tr>\n",
       "    <tr>\n",
       "      <th>996</th>\n",
       "      <td>80022.177823</td>\n",
       "      <td>0</td>\n",
       "    </tr>\n",
       "    <tr>\n",
       "      <th>997</th>\n",
       "      <td>9743.924884</td>\n",
       "      <td>0</td>\n",
       "    </tr>\n",
       "    <tr>\n",
       "      <th>998</th>\n",
       "      <td>-23968.802879</td>\n",
       "      <td>0</td>\n",
       "    </tr>\n",
       "    <tr>\n",
       "      <th>999</th>\n",
       "      <td>88499.872733</td>\n",
       "      <td>0</td>\n",
       "    </tr>\n",
       "  </tbody>\n",
       "</table>\n",
       "<p>1000 rows × 2 columns</p>\n",
       "</div>"
      ],
      "text/plain": [
       "           profit  scenario_num\n",
       "0    -6681.109976             0\n",
       "1    43876.696883             0\n",
       "2    69683.584802             0\n",
       "3    -7591.593917             0\n",
       "4   -16049.064783             0\n",
       "..            ...           ...\n",
       "995   5651.957764             0\n",
       "996  80022.177823             0\n",
       "997   9743.924884             0\n",
       "998 -23968.802879             0\n",
       "999  88499.872733             0\n",
       "\n",
       "[1000 rows x 2 columns]"
      ]
     },
     "execution_count": 142,
     "metadata": {},
     "output_type": "execute_result"
    }
   ],
   "source": [
    "sim_results_df"
   ]
  },
  {
   "cell_type": "code",
   "execution_count": 143,
   "id": "87865b1c-b0b1-4567-8f42-965f8f15a176",
   "metadata": {},
   "outputs": [
    {
     "data": {
      "text/html": [
       "<div>\n",
       "<style scoped>\n",
       "    .dataframe tbody tr th:only-of-type {\n",
       "        vertical-align: middle;\n",
       "    }\n",
       "\n",
       "    .dataframe tbody tr th {\n",
       "        vertical-align: top;\n",
       "    }\n",
       "\n",
       "    .dataframe thead th {\n",
       "        text-align: right;\n",
       "    }\n",
       "</style>\n",
       "<table border=\"1\" class=\"dataframe\">\n",
       "  <thead>\n",
       "    <tr style=\"text-align: right;\">\n",
       "      <th></th>\n",
       "      <th>count</th>\n",
       "      <th>mean</th>\n",
       "      <th>std</th>\n",
       "      <th>min</th>\n",
       "      <th>25%</th>\n",
       "      <th>50%</th>\n",
       "      <th>75%</th>\n",
       "      <th>max</th>\n",
       "    </tr>\n",
       "    <tr>\n",
       "      <th>scenario_num</th>\n",
       "      <th></th>\n",
       "      <th></th>\n",
       "      <th></th>\n",
       "      <th></th>\n",
       "      <th></th>\n",
       "      <th></th>\n",
       "      <th></th>\n",
       "      <th></th>\n",
       "    </tr>\n",
       "  </thead>\n",
       "  <tbody>\n",
       "    <tr>\n",
       "      <th>0</th>\n",
       "      <td>1000.0</td>\n",
       "      <td>24186.279095</td>\n",
       "      <td>46446.533121</td>\n",
       "      <td>-33194.36318</td>\n",
       "      <td>-13397.581387</td>\n",
       "      <td>9280.834931</td>\n",
       "      <td>56249.269388</td>\n",
       "      <td>137619.98073</td>\n",
       "    </tr>\n",
       "  </tbody>\n",
       "</table>\n",
       "</div>"
      ],
      "text/plain": [
       "               count          mean           std          min           25%  \\\n",
       "scenario_num                                                                  \n",
       "0             1000.0  24186.279095  46446.533121 -33194.36318 -13397.581387   \n",
       "\n",
       "                      50%           75%           max  \n",
       "scenario_num                                           \n",
       "0             9280.834931  56249.269388  137619.98073  "
      ]
     },
     "execution_count": 143,
     "metadata": {},
     "output_type": "execute_result"
    }
   ],
   "source": [
    "sim_results_df.groupby(['scenario_num'])['profit'].describe()"
   ]
  },
  {
   "cell_type": "code",
   "execution_count": 144,
   "id": "d5a9775e-243c-4229-b263-68ce87ce6d68",
   "metadata": {},
   "outputs": [
    {
     "data": {
      "text/plain": [
       "0      -6681.109976\n",
       "1      43876.696883\n",
       "2      69683.584802\n",
       "3      -7591.593917\n",
       "4     -16049.064783\n",
       "           ...     \n",
       "995     5651.957764\n",
       "996    80022.177823\n",
       "997     9743.924884\n",
       "998   -23968.802879\n",
       "999    88499.872733\n",
       "Name: profit, Length: 1000, dtype: float64"
      ]
     },
     "execution_count": 144,
     "metadata": {},
     "output_type": "execute_result"
    }
   ],
   "source": [
    "sim_results_df['profit']"
   ]
  },
  {
   "cell_type": "code",
   "execution_count": 145,
   "id": "e45629ab-d49f-45b9-900b-67ceace81a98",
   "metadata": {},
   "outputs": [
    {
     "data": {
      "image/png": "[encoded data removed]",
      "text/plain": [
       "<Figure size 432x288 with 1 Axes>"
      ]
     },
     "metadata": {
      "needs_background": "light"
     },
     "output_type": "display_data"
    }
   ],
   "source": [
    "sim_results_df['profit'].hist(bins=10);"
   ]
  },
  {
   "cell_type": "code",
   "execution_count": 146,
   "id": "7b494272-0f93-476f-b1a5-ca4d177130f6",
   "metadata": {},
   "outputs": [
    {
     "name": "stdout",
     "output_type": "stream",
     "text": [
      "0.414\n"
     ]
    }
   ],
   "source": [
    "print(stats.percentileofscore(sim_results_df['profit'], 0) / 100.0)"
   ]
  },
  {
   "cell_type": "markdown",
   "id": "91b264fa-6d5f-4f82-bd38-3a334751b077",
   "metadata": {},
   "source": [
    "Probability that profit is negative is .414."
   ]
  },
  {
   "cell_type": "markdown",
   "id": "e8fd4fe1-b508-4717-8957-36c4ade5ee59",
   "metadata": {},
   "source": [
    "# Part Two"
   ]
  },
  {
   "cell_type": "markdown",
   "id": "ddf4e3e4-a4bc-45ed-9e35-f152f9cca6e1",
   "metadata": {},
   "source": [
    "## 2A - New Model "
   ]
  },
  {
   "cell_type": "code",
   "execution_count": 147,
   "id": "776cdfc4-e233-4359-9c50-6a032ccf0892",
   "metadata": {},
   "outputs": [],
   "source": [
    "class SingleProductSPF1(Model):\n",
    "    def __init__(self, fixed_cost=60e+3, var_cost=90, selling_price=120, spf_scale=10e+6, spf_exponent=-1.8, ot_threshold = 1000, ot_var_cost = 110, lost_demand_threshold = 1200):\n",
    "        self.fixed_cost = fixed_cost\n",
    "        self.var_cost = var_cost\n",
    "        self.selling_price = selling_price\n",
    "        self.spf_scale = spf_scale\n",
    "        self.spf_exponent = spf_exponent\n",
    "        self.ot_threshold = ot_threshold\n",
    "        self.ot_var_cost = ot_var_cost\n",
    "        self.lost_demand_threshold = lost_demand_threshold\n",
    "        \n",
    "    def SPF_demand(self):\n",
    "        \"\"\"compute demand\"\"\"\n",
    "        return self.spf_scale * self.selling_price ** self.spf_exponent\n",
    "    \n",
    "    def total_cost(self):\n",
    "        \"\"\"compute total cost\"\"\"\n",
    "        if self.SPF_demand() <= 1000:\n",
    "            return self.fixed_cost + self.var_cost * self.SPF_demand()\n",
    "        elif self.SPF_demand() <= self.lost_demand_threshold:\n",
    "            return self.fixed_cost + (self.var_cost * 1000) + (self.ot_var_cost * (self.SPF_demand() - 1000))\n",
    "        else:\n",
    "            return self.fixed_cost + (self.var_cost * 1000) + (self.ot_var_cost * 200)\n",
    "        \n",
    "        \n",
    "    def revenue(self):\n",
    "        \"\"\"compute revenue\"\"\"\n",
    "        if self.SPF_demand() <= self.lost_demand_threshold:\n",
    "            return self.selling_price * self.SPF_demand()\n",
    "        else:\n",
    "            return self.selling_price * 1200\n",
    "    \n",
    "    def units_sold(self):\n",
    "        if self.SPF_demand() <= self.lost_demand_threshold:\n",
    "            return self.SPF_demand()\n",
    "        else:\n",
    "            return 1200\n",
    "    \n",
    "        \n",
    "    def profit(self):\n",
    "        \"\"\"compute profit\"\"\"\n",
    "        profit = self.revenue() - self.total_cost()\n",
    "        return profit\n",
    "    \n",
    "    "
   ]
  },
  {
   "cell_type": "code",
   "execution_count": 148,
   "id": "f2d053ee-1018-4b2e-ae18-68c2522ddbc7",
   "metadata": {},
   "outputs": [],
   "source": [
    "model1 = SingleProductSPF1()"
   ]
  },
  {
   "cell_type": "markdown",
   "id": "5f9f0e7b-41ba-451e-b5b8-97ef977def69",
   "metadata": {},
   "source": [
    "## 2A - One Way Data Table"
   ]
  },
  {
   "cell_type": "code",
   "execution_count": 149,
   "id": "505670fd-534d-4f8a-a94b-90df46434130",
   "metadata": {},
   "outputs": [],
   "source": [
    "dt_param_ranges_2 = {'selling_price': np.arange(90, 500, 10)}\n",
    "outputs2 = ['profit', 'SPF_demand', 'units_sold']\n",
    "m_dt2_df = Model.data_table(model1, dt_param_ranges_2, outputs2)"
   ]
  },
  {
   "cell_type": "code",
   "execution_count": 150,
   "id": "b93062b2-ddfa-4634-b6d5-0b92fa91a1d3",
   "metadata": {},
   "outputs": [
    {
     "data": {
      "text/html": [
       "<div>\n",
       "<style scoped>\n",
       "    .dataframe tbody tr th:only-of-type {\n",
       "        vertical-align: middle;\n",
       "    }\n",
       "\n",
       "    .dataframe tbody tr th {\n",
       "        vertical-align: top;\n",
       "    }\n",
       "\n",
       "    .dataframe thead th {\n",
       "        text-align: right;\n",
       "    }\n",
       "</style>\n",
       "<table border=\"1\" class=\"dataframe\">\n",
       "  <thead>\n",
       "    <tr style=\"text-align: right;\">\n",
       "      <th></th>\n",
       "      <th>selling_price</th>\n",
       "      <th>profit</th>\n",
       "      <th>SPF_demand</th>\n",
       "      <th>units_sold</th>\n",
       "    </tr>\n",
       "  </thead>\n",
       "  <tbody>\n",
       "    <tr>\n",
       "      <th>0</th>\n",
       "      <td>90</td>\n",
       "      <td>-64000.000000</td>\n",
       "      <td>3036.431464</td>\n",
       "      <td>1200.000000</td>\n",
       "    </tr>\n",
       "    <tr>\n",
       "      <th>1</th>\n",
       "      <td>100</td>\n",
       "      <td>-52000.000000</td>\n",
       "      <td>2511.886432</td>\n",
       "      <td>1200.000000</td>\n",
       "    </tr>\n",
       "    <tr>\n",
       "      <th>2</th>\n",
       "      <td>110</td>\n",
       "      <td>-40000.000000</td>\n",
       "      <td>2115.890393</td>\n",
       "      <td>1200.000000</td>\n",
       "    </tr>\n",
       "    <tr>\n",
       "      <th>3</th>\n",
       "      <td>120</td>\n",
       "      <td>-28000.000000</td>\n",
       "      <td>1809.146587</td>\n",
       "      <td>1200.000000</td>\n",
       "    </tr>\n",
       "    <tr>\n",
       "      <th>4</th>\n",
       "      <td>130</td>\n",
       "      <td>-16000.000000</td>\n",
       "      <td>1566.397444</td>\n",
       "      <td>1200.000000</td>\n",
       "    </tr>\n",
       "    <tr>\n",
       "      <th>5</th>\n",
       "      <td>140</td>\n",
       "      <td>-4000.000000</td>\n",
       "      <td>1370.785607</td>\n",
       "      <td>1200.000000</td>\n",
       "    </tr>\n",
       "    <tr>\n",
       "      <th>6</th>\n",
       "      <td>150</td>\n",
       "      <td>8000.000000</td>\n",
       "      <td>1210.697746</td>\n",
       "      <td>1200.000000</td>\n",
       "    </tr>\n",
       "    <tr>\n",
       "      <th>7</th>\n",
       "      <td>160</td>\n",
       "      <td>13895.689901</td>\n",
       "      <td>1077.913798</td>\n",
       "      <td>1077.913798</td>\n",
       "    </tr>\n",
       "    <tr>\n",
       "      <th>8</th>\n",
       "      <td>170</td>\n",
       "      <td>17318.234466</td>\n",
       "      <td>966.477931</td>\n",
       "      <td>966.477931</td>\n",
       "    </tr>\n",
       "    <tr>\n",
       "      <th>9</th>\n",
       "      <td>180</td>\n",
       "      <td>18478.736125</td>\n",
       "      <td>871.985957</td>\n",
       "      <td>871.985957</td>\n",
       "    </tr>\n",
       "    <tr>\n",
       "      <th>10</th>\n",
       "      <td>190</td>\n",
       "      <td>19112.210288</td>\n",
       "      <td>791.122103</td>\n",
       "      <td>791.122103</td>\n",
       "    </tr>\n",
       "    <tr>\n",
       "      <th>11</th>\n",
       "      <td>200</td>\n",
       "      <td>19348.494825</td>\n",
       "      <td>721.349953</td>\n",
       "      <td>721.349953</td>\n",
       "    </tr>\n",
       "    <tr>\n",
       "      <th>12</th>\n",
       "      <td>210</td>\n",
       "      <td>19284.175744</td>\n",
       "      <td>660.701465</td>\n",
       "      <td>660.701465</td>\n",
       "    </tr>\n",
       "    <tr>\n",
       "      <th>13</th>\n",
       "      <td>220</td>\n",
       "      <td>18991.893952</td>\n",
       "      <td>607.629953</td>\n",
       "      <td>607.629953</td>\n",
       "    </tr>\n",
       "    <tr>\n",
       "      <th>14</th>\n",
       "      <td>230</td>\n",
       "      <td>18526.805554</td>\n",
       "      <td>560.905754</td>\n",
       "      <td>560.905754</td>\n",
       "    </tr>\n",
       "    <tr>\n",
       "      <th>15</th>\n",
       "      <td>240</td>\n",
       "      <td>17931.139049</td>\n",
       "      <td>519.540927</td>\n",
       "      <td>519.540927</td>\n",
       "    </tr>\n",
       "    <tr>\n",
       "      <th>16</th>\n",
       "      <td>250</td>\n",
       "      <td>17237.457108</td>\n",
       "      <td>482.734107</td>\n",
       "      <td>482.734107</td>\n",
       "    </tr>\n",
       "    <tr>\n",
       "      <th>17</th>\n",
       "      <td>260</td>\n",
       "      <td>16471.022116</td>\n",
       "      <td>449.829542</td>\n",
       "      <td>449.829542</td>\n",
       "    </tr>\n",
       "    <tr>\n",
       "      <th>18</th>\n",
       "      <td>270</td>\n",
       "      <td>15651.532415</td>\n",
       "      <td>420.286291</td>\n",
       "      <td>420.286291</td>\n",
       "    </tr>\n",
       "    <tr>\n",
       "      <th>19</th>\n",
       "      <td>280</td>\n",
       "      <td>14794.410663</td>\n",
       "      <td>393.654793</td>\n",
       "      <td>393.654793</td>\n",
       "    </tr>\n",
       "    <tr>\n",
       "      <th>20</th>\n",
       "      <td>290</td>\n",
       "      <td>13911.769453</td>\n",
       "      <td>369.558847</td>\n",
       "      <td>369.558847</td>\n",
       "    </tr>\n",
       "    <tr>\n",
       "      <th>21</th>\n",
       "      <td>300</td>\n",
       "      <td>13013.141706</td>\n",
       "      <td>347.681627</td>\n",
       "      <td>347.681627</td>\n",
       "    </tr>\n",
       "    <tr>\n",
       "      <th>22</th>\n",
       "      <td>310</td>\n",
       "      <td>12106.037804</td>\n",
       "      <td>327.754717</td>\n",
       "      <td>327.754717</td>\n",
       "    </tr>\n",
       "    <tr>\n",
       "      <th>23</th>\n",
       "      <td>320</td>\n",
       "      <td>11196.373880</td>\n",
       "      <td>309.549452</td>\n",
       "      <td>309.549452</td>\n",
       "    </tr>\n",
       "    <tr>\n",
       "      <th>24</th>\n",
       "      <td>330</td>\n",
       "      <td>10288.803400</td>\n",
       "      <td>292.870014</td>\n",
       "      <td>292.870014</td>\n",
       "    </tr>\n",
       "    <tr>\n",
       "      <th>25</th>\n",
       "      <td>340</td>\n",
       "      <td>9386.975580</td>\n",
       "      <td>277.547902</td>\n",
       "      <td>277.547902</td>\n",
       "    </tr>\n",
       "    <tr>\n",
       "      <th>26</th>\n",
       "      <td>350</td>\n",
       "      <td>8493.737992</td>\n",
       "      <td>263.437454</td>\n",
       "      <td>263.437454</td>\n",
       "    </tr>\n",
       "    <tr>\n",
       "      <th>27</th>\n",
       "      <td>360</td>\n",
       "      <td>7611.296317</td>\n",
       "      <td>250.412209</td>\n",
       "      <td>250.412209</td>\n",
       "    </tr>\n",
       "    <tr>\n",
       "      <th>28</th>\n",
       "      <td>370</td>\n",
       "      <td>6741.340932</td>\n",
       "      <td>238.361932</td>\n",
       "      <td>238.361932</td>\n",
       "    </tr>\n",
       "    <tr>\n",
       "      <th>29</th>\n",
       "      <td>380</td>\n",
       "      <td>5885.147718</td>\n",
       "      <td>227.190165</td>\n",
       "      <td>227.190165</td>\n",
       "    </tr>\n",
       "    <tr>\n",
       "      <th>30</th>\n",
       "      <td>390</td>\n",
       "      <td>5043.658666</td>\n",
       "      <td>216.812196</td>\n",
       "      <td>216.812196</td>\n",
       "    </tr>\n",
       "    <tr>\n",
       "      <th>31</th>\n",
       "      <td>400</td>\n",
       "      <td>4217.546586</td>\n",
       "      <td>207.153376</td>\n",
       "      <td>207.153376</td>\n",
       "    </tr>\n",
       "    <tr>\n",
       "      <th>32</th>\n",
       "      <td>410</td>\n",
       "      <td>3407.267253</td>\n",
       "      <td>198.147710</td>\n",
       "      <td>198.147710</td>\n",
       "    </tr>\n",
       "    <tr>\n",
       "      <th>33</th>\n",
       "      <td>420</td>\n",
       "      <td>2613.101550</td>\n",
       "      <td>189.736671</td>\n",
       "      <td>189.736671</td>\n",
       "    </tr>\n",
       "    <tr>\n",
       "      <th>34</th>\n",
       "      <td>430</td>\n",
       "      <td>1835.189633</td>\n",
       "      <td>181.868205</td>\n",
       "      <td>181.868205</td>\n",
       "    </tr>\n",
       "    <tr>\n",
       "      <th>35</th>\n",
       "      <td>440</td>\n",
       "      <td>1073.558700</td>\n",
       "      <td>174.495882</td>\n",
       "      <td>174.495882</td>\n",
       "    </tr>\n",
       "    <tr>\n",
       "      <th>36</th>\n",
       "      <td>450</td>\n",
       "      <td>328.145605</td>\n",
       "      <td>167.578182</td>\n",
       "      <td>167.578182</td>\n",
       "    </tr>\n",
       "    <tr>\n",
       "      <th>37</th>\n",
       "      <td>460</td>\n",
       "      <td>-401.184689</td>\n",
       "      <td>161.077879</td>\n",
       "      <td>161.077879</td>\n",
       "    </tr>\n",
       "    <tr>\n",
       "      <th>38</th>\n",
       "      <td>470</td>\n",
       "      <td>-1114.624022</td>\n",
       "      <td>154.961516</td>\n",
       "      <td>154.961516</td>\n",
       "    </tr>\n",
       "    <tr>\n",
       "      <th>39</th>\n",
       "      <td>480</td>\n",
       "      <td>-1812.408701</td>\n",
       "      <td>149.198952</td>\n",
       "      <td>149.198952</td>\n",
       "    </tr>\n",
       "    <tr>\n",
       "      <th>40</th>\n",
       "      <td>490</td>\n",
       "      <td>-2494.809396</td>\n",
       "      <td>143.762977</td>\n",
       "      <td>143.762977</td>\n",
       "    </tr>\n",
       "  </tbody>\n",
       "</table>\n",
       "</div>"
      ],
      "text/plain": [
       "    selling_price        profit   SPF_demand   units_sold\n",
       "0              90 -64000.000000  3036.431464  1200.000000\n",
       "1             100 -52000.000000  2511.886432  1200.000000\n",
       "2             110 -40000.000000  2115.890393  1200.000000\n",
       "3             120 -28000.000000  1809.146587  1200.000000\n",
       "4             130 -16000.000000  1566.397444  1200.000000\n",
       "5             140  -4000.000000  1370.785607  1200.000000\n",
       "6             150   8000.000000  1210.697746  1200.000000\n",
       "7             160  13895.689901  1077.913798  1077.913798\n",
       "8             170  17318.234466   966.477931   966.477931\n",
       "9             180  18478.736125   871.985957   871.985957\n",
       "10            190  19112.210288   791.122103   791.122103\n",
       "11            200  19348.494825   721.349953   721.349953\n",
       "12            210  19284.175744   660.701465   660.701465\n",
       "13            220  18991.893952   607.629953   607.629953\n",
       "14            230  18526.805554   560.905754   560.905754\n",
       "15            240  17931.139049   519.540927   519.540927\n",
       "16            250  17237.457108   482.734107   482.734107\n",
       "17            260  16471.022116   449.829542   449.829542\n",
       "18            270  15651.532415   420.286291   420.286291\n",
       "19            280  14794.410663   393.654793   393.654793\n",
       "20            290  13911.769453   369.558847   369.558847\n",
       "21            300  13013.141706   347.681627   347.681627\n",
       "22            310  12106.037804   327.754717   327.754717\n",
       "23            320  11196.373880   309.549452   309.549452\n",
       "24            330  10288.803400   292.870014   292.870014\n",
       "25            340   9386.975580   277.547902   277.547902\n",
       "26            350   8493.737992   263.437454   263.437454\n",
       "27            360   7611.296317   250.412209   250.412209\n",
       "28            370   6741.340932   238.361932   238.361932\n",
       "29            380   5885.147718   227.190165   227.190165\n",
       "30            390   5043.658666   216.812196   216.812196\n",
       "31            400   4217.546586   207.153376   207.153376\n",
       "32            410   3407.267253   198.147710   198.147710\n",
       "33            420   2613.101550   189.736671   189.736671\n",
       "34            430   1835.189633   181.868205   181.868205\n",
       "35            440   1073.558700   174.495882   174.495882\n",
       "36            450    328.145605   167.578182   167.578182\n",
       "37            460   -401.184689   161.077879   161.077879\n",
       "38            470  -1114.624022   154.961516   154.961516\n",
       "39            480  -1812.408701   149.198952   149.198952\n",
       "40            490  -2494.809396   143.762977   143.762977"
      ]
     },
     "execution_count": 150,
     "metadata": {},
     "output_type": "execute_result"
    }
   ],
   "source": [
    "m_dt2_df"
   ]
  },
  {
   "cell_type": "markdown",
   "id": "aea9b4eb-ba7d-419b-8302-731154a95af7",
   "metadata": {},
   "source": [
    "## 2A - Goal Seek"
   ]
  },
  {
   "cell_type": "code",
   "execution_count": 151,
   "id": "2182ab3e-9e0f-4941-866d-0a6b24280e55",
   "metadata": {
    "tags": []
   },
   "outputs": [
    {
     "data": {
      "text/plain": [
       "143.33333333333334"
      ]
     },
     "execution_count": 151,
     "metadata": {},
     "output_type": "execute_result"
    }
   ],
   "source": [
    "Model.goal_seek(model1,'profit', 0, 'selling_price', 90, 250)"
   ]
  },
  {
   "cell_type": "markdown",
   "id": "f8139ef7-fca1-40d4-8960-a7acf9e8d95c",
   "metadata": {},
   "source": [
    "## 2B - Goal Seek Strangeness"
   ]
  },
  {
   "cell_type": "code",
   "execution_count": 152,
   "id": "6183effc-a82d-4445-af9f-f53dfe5c27ed",
   "metadata": {},
   "outputs": [
    {
     "data": {
      "image/png": "[encoded data removed]",
      "text/plain": [
       "<Figure size 432x288 with 1 Axes>"
      ]
     },
     "metadata": {
      "needs_background": "light"
     },
     "output_type": "display_data"
    }
   ],
   "source": [
    "graph = sns.lineplot(x = m_dt2_df['selling_price'], y = m_dt2_df['profit'])\n",
    "graph.axhline(0, color = 'r');"
   ]
  },
  {
   "cell_type": "code",
   "execution_count": 154,
   "id": "e066bd2f-7ee8-4536-947d-f618ef60defe",
   "metadata": {},
   "outputs": [
    {
     "ename": "TypeError",
     "evalue": "unsupported format string passed to NoneType.__format__",
     "output_type": "error",
     "traceback": [
      "\u001b[0;31m---------------------------------------------------------------------------\u001b[0m",
      "\u001b[0;31mTypeError\u001b[0m                                 Traceback (most recent call last)",
      "\u001b[0;32m<ipython-input-154-9854e5646b35>\u001b[0m in \u001b[0;36m<module>\u001b[0;34m\u001b[0m\n\u001b[0;32m----> 1\u001b[0;31m \u001b[0mprint\u001b[0m\u001b[0;34m(\u001b[0m\u001b[0;34mf\"Break even selling price: {Model.goal_seek(model1,'profit', 0, 'selling_price', 90, 500):.2f}\"\u001b[0m\u001b[0;34m)\u001b[0m\u001b[0;34m\u001b[0m\u001b[0;34m\u001b[0m\u001b[0m\n\u001b[0m",
      "\u001b[0;31mTypeError\u001b[0m: unsupported format string passed to NoneType.__format__"
     ]
    }
   ],
   "source": [
    "print(f\"Break even selling price: {Model.goal_seek(model1,'profit', 0, 'selling_price', 90, 500):.2f}\")"
   ]
  },
  {
   "cell_type": "code",
   "execution_count": 153,
   "id": "ac8207bd-cf26-4f1e-9961-8d038dde055e",
   "metadata": {},
   "outputs": [
    {
     "name": "stdout",
     "output_type": "stream",
     "text": [
      "Break even selling price: 143.33\n"
     ]
    }
   ],
   "source": [
    "print(f\"Break even selling price: {Model.goal_seek(model1,'profit', 0, 'selling_price', 90, 250):.2f}\")"
   ]
  },
  {
   "cell_type": "code",
   "execution_count": 155,
   "id": "c7ed536e-8665-4c90-95be-d987acb8ef1e",
   "metadata": {},
   "outputs": [
    {
     "name": "stdout",
     "output_type": "stream",
     "text": [
      "Break even selling price: 454.47\n"
     ]
    }
   ],
   "source": [
    "print(f\"Break even selling price: {Model.goal_seek(model1,'profit', 0, 'selling_price', 300, 500):.2f}\")"
   ]
  },
  {
   "cell_type": "markdown",
   "id": "b2fbe38c-7902-47a9-9958-8f26d722fb35",
   "metadata": {},
   "source": [
    "Our function of profit related to selling price is quadratic so we cross \\\\$0 at two points. Using the goal seek function with range of $90 to \\\\$500 will through an error because we have two answers and our goal seek function is only prepared for one. Moving these ranges to only cover one such break even point will allow for proper behavior. "
   ]
  },
  {
   "cell_type": "code",
   "execution_count": null,
   "id": "d2e6bc33-d812-411c-800b-c331f523b84b",
   "metadata": {},
   "outputs": [],
   "source": []
  }
 ],
 "metadata": {
  "kernelspec": {
   "display_name": "Python 3",
   "language": "python",
   "name": "python3"
  },
  "language_info": {
   "codemirror_mode": {
    "name": "ipython",
    "version": 3
   },
   "file_extension": ".py",
   "mimetype": "text/x-python",
   "name": "python",
   "nbconvert_exporter": "python",
   "pygments_lexer": "ipython3",
   "version": "3.7.7"
  }
 },
 "nbformat": 4,
 "nbformat_minor": 5
}
