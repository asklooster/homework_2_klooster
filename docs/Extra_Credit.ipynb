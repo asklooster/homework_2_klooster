{
 "cells": [
  {
   "cell_type": "code",
   "execution_count": 1,
   "id": "53ec5ce9-fc2f-4a41-9605-500d7f084f42",
   "metadata": {},
   "outputs": [],
   "source": [
    "import pandas as pd\n",
    "from openpyxl import Workbook\n",
    "\n",
    "file = '../data/Book1.xlsx'\n",
    "\n",
    "xl = pd.ExcelFile(file)\n",
    "\n",
    "year_data = xl.parse('Year_Data')\n",
    "june_data = xl.parse('June_Data')\n",
    "\n",
    "inner_join = pd.merge(year_data, june_data, on ='VIN', how ='inner')\n",
    "\n",
    "writer = pd.ExcelWriter('../output/duplicates.xlsx')\n",
    "inner_join.to_excel(writer)\n",
    "writer.save()"
   ]
  },
  {
   "cell_type": "markdown",
   "id": "b2756792-2213-4566-a049-8918269dc145",
   "metadata": {},
   "source": [
    "This short script could be used to find duplicate entries in reports, then push the output into a new folder."
   ]
  },
  {
   "cell_type": "code",
   "execution_count": 52,
   "id": "cdf80934-1490-4f66-a270-383f3478e4f9",
   "metadata": {},
   "outputs": [],
   "source": [
    "import pandas as pd\n",
    "from openpyxl import Workbook\n",
    "\n",
    "file = '../data/Book1.xlsx'\n",
    "\n",
    "xl = pd.ExcelFile(file)\n",
    "\n",
    "june_data = xl.parse('June_Data')\n",
    "\n",
    "top_states = june_data.groupby(['State']).size().sort_values(ascending = False).head(10)\n",
    "top_models = june_data.groupby(['Model']).size().sort_values(ascending = False).head(10)\n",
    "\n",
    "\n",
    "writer = pd.ExcelWriter('../output/top_states.xlsx')\n",
    "top_states.to_excel(writer)\n",
    "writer.save()\n",
    "\n",
    "writer = pd.ExcelWriter('../output/top_models.xlsx')\n",
    "top_models.to_excel(writer)\n",
    "writer.save()"
   ]
  },
  {
   "cell_type": "markdown",
   "id": "60728c8f-d24f-4936-bddf-57ba2de7d179",
   "metadata": {},
   "source": [
    "This script would read in monthly data from excel and product two new files for top 10 states and top 10 models. "
   ]
  }
 ],
 "metadata": {
  "kernelspec": {
   "display_name": "Python 3",
   "language": "python",
   "name": "python3"
  },
  "language_info": {
   "codemirror_mode": {
    "name": "ipython",
    "version": 3
   },
   "file_extension": ".py",
   "mimetype": "text/x-python",
   "name": "python",
   "nbconvert_exporter": "python",
   "pygments_lexer": "ipython3",
   "version": "3.7.7"
  }
 },
 "nbformat": 4,
 "nbformat_minor": 5
}
